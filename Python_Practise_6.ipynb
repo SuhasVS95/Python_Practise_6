{
 "cells": [
  {
   "cell_type": "markdown",
   "metadata": {},
   "source": [
    "# Write a program that accepts a sentence and calculate the number of letters, and digits."
   ]
  },
  {
   "cell_type": "code",
   "execution_count": 118,
   "metadata": {},
   "outputs": [
    {
     "name": "stdout",
     "output_type": "stream",
     "text": [
      "Enter:Suhas124***\n",
      "The count of letter: 5\n",
      "The count of digits: 3\n",
      "The count of other characters: 3\n"
     ]
    }
   ],
   "source": [
    "a=input(\"Enter:\")\n",
    "ca=cd=co=0\n",
    "for i in a:\n",
    "    if i.isalpha():\n",
    "        ca=ca+1\n",
    "    elif i.isdigit():\n",
    "        cd=cd+1\n",
    "    else:\n",
    "        co=co+1\n",
    "print(\"The count of letter:\",ca)\n",
    "print(\"The count of digits:\",cd)\n",
    "print(\"The count of other characters:\",co)\n",
    "\n",
    "        \n"
   ]
  },
  {
   "cell_type": "markdown",
   "metadata": {},
   "source": [
    "# Write a program to compute the frequency of the words from the input sentence. Display the frequency of each word from the sentence.\n"
   ]
  },
  {
   "cell_type": "code",
   "execution_count": 119,
   "metadata": {},
   "outputs": [
    {
     "name": "stdout",
     "output_type": "stream",
     "text": [
      "Enter the sentence:Suhas is and suhas is not\n",
      "Count of suhas : 1\n",
      "Count of Suhas : 1\n",
      "Count of and : 1\n",
      "Count of not : 1\n",
      "Count of is : 2\n"
     ]
    }
   ],
   "source": [
    "a=input(\"Enter the sentence:\")\n",
    "b=a.rsplit()\n",
    "c=set(b)\n",
    "for i in c:\n",
    "    print(\"Count of\",i,\":\",b.count(i))  "
   ]
  },
  {
   "cell_type": "markdown",
   "metadata": {},
   "source": [
    "# Write a function which will:\n",
    "a) Create a list of 10 random integers.\n",
    "b) Then find the largest of the list of numbers, using a loop"
   ]
  },
  {
   "cell_type": "code",
   "execution_count": 144,
   "metadata": {},
   "outputs": [
    {
     "name": "stdout",
     "output_type": "stream",
     "text": [
      "Enter the first cap:343\n",
      "Enter the second cap:543\n",
      "[['4', '4', '3'], ['5', '0', '4'], ['4', '4', '9'], ['4', '8', '7'], ['5', '4', '2'], ['3', '7', '6'], ['5', '1', '3'], ['4', '9', '6'], ['5', '2', '1'], ['5', '0', '1']]\n",
      "[443, 504, 449, 487, 542, 376, 513, 496, 521, 501]\n",
      "Sorted [376, 443, 449, 487, 496, 501, 504, 513, 521, 542]\n",
      "449 is lower than  542\n",
      "513 is lower than  542\n",
      "487 is lower than  542\n",
      "504 is lower than  542\n",
      "521 is lower than  542\n",
      "496 is lower than  542\n",
      "501 is lower than  542\n",
      "376 is lower than  542\n",
      "443 is lower than  542\n",
      "Max number of the random list is: 542\n"
     ]
    }
   ],
   "source": [
    "i=0\n",
    "p=[]\n",
    "\n",
    "q=int(input(\"Enter the first cap:\"))\n",
    "x=int(input(\"Enter the second cap:\"))\n",
    "\n",
    "while i<10:\n",
    "    #print(\"\\n\")\n",
    "    #print(random.randint(10,20))\n",
    "    c=random.randint(q,x)\n",
    "    b=list(str(c))\n",
    "    p.append(b)\n",
    "    i=i+1\n",
    "    \n",
    "print(p)\n",
    "\n",
    "k=0\n",
    "n=[]\n",
    "while k<len(p):\n",
    "    n.append(int(\"\".join(p[k])))\n",
    "    k=k+1\n",
    "print(n) \n",
    "\n",
    "f=sorted(n)\n",
    "print('Sorted',f)\n",
    "\n",
    "g=set(f)\n",
    "l=list(g)\n",
    "o=0\n",
    "while o<len(l):\n",
    "    if l[o]<l[len(l)-1]:\n",
    "        print(l[o],\"is lower than \",l[len(l)-1])\n",
    "    o=o+1\n",
    "print(\"Max number of the random list is:\",l[len(l)-1])"
   ]
  },
  {
   "cell_type": "code",
   "execution_count": null,
   "metadata": {},
   "outputs": [],
   "source": []
  }
 ],
 "metadata": {
  "kernelspec": {
   "display_name": "Python 3",
   "language": "python",
   "name": "python3"
  },
  "language_info": {
   "codemirror_mode": {
    "name": "ipython",
    "version": 3
   },
   "file_extension": ".py",
   "mimetype": "text/x-python",
   "name": "python",
   "nbconvert_exporter": "python",
   "pygments_lexer": "ipython3",
   "version": "3.7.6"
  }
 },
 "nbformat": 4,
 "nbformat_minor": 4
}
